{
 "cells": [
  {
   "cell_type": "code",
   "execution_count": 2,
   "metadata": {
    "ExecuteTime": {
     "end_time": "2021-01-21T22:33:54.434794Z",
     "start_time": "2021-01-21T22:33:53.033936Z"
    }
   },
   "outputs": [
    {
     "ename": "ModuleNotFoundError",
     "evalue": "No module named '_plotly_utils'",
     "output_type": "error",
     "traceback": [
      "\u001b[1;31m---------------------------------------------------------------------------\u001b[0m",
      "\u001b[1;31mModuleNotFoundError\u001b[0m                       Traceback (most recent call last)",
      "\u001b[1;32m<ipython-input-2-b7f1a4b92b72>\u001b[0m in \u001b[0;36m<module>\u001b[1;34m\u001b[0m\n\u001b[0;32m      4\u001b[0m \u001b[1;33m\u001b[0m\u001b[0m\n\u001b[0;32m      5\u001b[0m \u001b[1;32mimport\u001b[0m \u001b[0mflask\u001b[0m\u001b[1;33m\u001b[0m\u001b[1;33m\u001b[0m\u001b[0m\n\u001b[1;32m----> 6\u001b[1;33m \u001b[1;32mimport\u001b[0m \u001b[0mdash\u001b[0m\u001b[1;33m\u001b[0m\u001b[1;33m\u001b[0m\u001b[0m\n\u001b[0m\u001b[0;32m      7\u001b[0m \u001b[1;32mfrom\u001b[0m \u001b[0mdash\u001b[0m \u001b[1;32mimport\u001b[0m \u001b[0mdcc\u001b[0m\u001b[1;33m\u001b[0m\u001b[1;33m\u001b[0m\u001b[0m\n\u001b[0;32m      8\u001b[0m \u001b[1;32mfrom\u001b[0m \u001b[0mdash\u001b[0m \u001b[1;32mimport\u001b[0m \u001b[0mhtml\u001b[0m\u001b[1;33m\u001b[0m\u001b[1;33m\u001b[0m\u001b[0m\n",
      "\u001b[1;32mc:\\Users\\Elvo\\anaconda3\\envs\\learn-env\\lib\\site-packages\\dash\\__init__.py\u001b[0m in \u001b[0;36m<module>\u001b[1;34m\u001b[0m\n\u001b[0;32m     27\u001b[0m     \u001b[0mstrip_relative_path\u001b[0m\u001b[1;33m,\u001b[0m\u001b[1;33m\u001b[0m\u001b[1;33m\u001b[0m\u001b[0m\n\u001b[0;32m     28\u001b[0m )\n\u001b[1;32m---> 29\u001b[1;33m from .long_callback import (  # noqa: F401,E402\n\u001b[0m\u001b[0;32m     30\u001b[0m     \u001b[0mCeleryManager\u001b[0m\u001b[1;33m,\u001b[0m\u001b[1;33m\u001b[0m\u001b[1;33m\u001b[0m\u001b[0m\n\u001b[0;32m     31\u001b[0m     \u001b[0mDiskcacheManager\u001b[0m\u001b[1;33m,\u001b[0m\u001b[1;33m\u001b[0m\u001b[1;33m\u001b[0m\u001b[0m\n",
      "\u001b[1;32mc:\\Users\\Elvo\\anaconda3\\envs\\learn-env\\lib\\site-packages\\dash\\long_callback\\__init__.py\u001b[0m in \u001b[0;36m<module>\u001b[1;34m\u001b[0m\n\u001b[1;32m----> 1\u001b[1;33m from .managers.celery_manager import (  # noqa: F401,E402\n\u001b[0m\u001b[0;32m      2\u001b[0m     \u001b[0mCeleryLongCallbackManager\u001b[0m\u001b[1;33m,\u001b[0m\u001b[1;33m\u001b[0m\u001b[1;33m\u001b[0m\u001b[0m\n\u001b[0;32m      3\u001b[0m     \u001b[0mCeleryManager\u001b[0m\u001b[1;33m,\u001b[0m\u001b[1;33m\u001b[0m\u001b[1;33m\u001b[0m\u001b[0m\n\u001b[0;32m      4\u001b[0m )\n\u001b[0;32m      5\u001b[0m from .managers.diskcache_manager import (  # noqa: F401,E402\n",
      "\u001b[1;32mc:\\Users\\Elvo\\anaconda3\\envs\\learn-env\\lib\\site-packages\\dash\\long_callback\\managers\\celery_manager.py\u001b[0m in \u001b[0;36m<module>\u001b[1;34m\u001b[0m\n\u001b[0;32m      3\u001b[0m \u001b[1;32mfrom\u001b[0m \u001b[0mcontextvars\u001b[0m \u001b[1;32mimport\u001b[0m \u001b[0mcopy_context\u001b[0m\u001b[1;33m\u001b[0m\u001b[1;33m\u001b[0m\u001b[0m\n\u001b[0;32m      4\u001b[0m \u001b[1;33m\u001b[0m\u001b[0m\n\u001b[1;32m----> 5\u001b[1;33m \u001b[1;32mfrom\u001b[0m \u001b[0m_plotly_utils\u001b[0m\u001b[1;33m.\u001b[0m\u001b[0mutils\u001b[0m \u001b[1;32mimport\u001b[0m \u001b[0mPlotlyJSONEncoder\u001b[0m\u001b[1;33m\u001b[0m\u001b[1;33m\u001b[0m\u001b[0m\n\u001b[0m\u001b[0;32m      6\u001b[0m \u001b[1;33m\u001b[0m\u001b[0m\n\u001b[0;32m      7\u001b[0m \u001b[1;32mfrom\u001b[0m \u001b[0mdash\u001b[0m\u001b[1;33m.\u001b[0m\u001b[0m_callback_context\u001b[0m \u001b[1;32mimport\u001b[0m \u001b[0mcontext_value\u001b[0m\u001b[1;33m\u001b[0m\u001b[1;33m\u001b[0m\u001b[0m\n",
      "\u001b[1;31mModuleNotFoundError\u001b[0m: No module named '_plotly_utils'"
     ]
    }
   ],
   "source": [
    "# Import required libraries\n",
    "import os\n",
    "from random import randint\n",
    "\n",
    "import flask\n",
    "import dash\n",
    "from dash import dcc\n",
    "from dash import html\n",
    "import dash_bootstrap_components as dbc\n",
    "from dash.dependencies import Input, Output, State\n",
    "\n",
    "import plotly.express as px\n",
    "import plotly.graph_objects as go\n",
    "import plotly.io as pio\n",
    "\n",
    "import pandas as pd\n",
    "import numpy as np\n",
    "\n",
    "from jupyter_dash import JupyterDash\n",
    "import ipywidgets\n",
    "\n",
    "from joblib import load\n",
    "\n",
    "import pickle\n",
    "import regex as re\n",
    "import string\n",
    "from nltk.corpus import stopwords\n",
    "\n",
    "\n",
    "from sklearn.feature_extraction.text import TfidfVectorizer\n",
    "from sklearn.pipeline import Pipeline\n",
    "from sklearn.model_selection import train_test_split"
   ]
  },
  {
   "cell_type": "code",
   "execution_count": 17,
   "metadata": {
    "ExecuteTime": {
     "end_time": "2021-01-21T22:33:55.126933Z",
     "start_time": "2021-01-21T22:33:54.436592Z"
    },
    "scrolled": false
   },
   "outputs": [
    {
     "ename": "ModuleNotFoundError",
     "evalue": "No module named 'plotly.offline'",
     "output_type": "error",
     "traceback": [
      "\u001b[1;31m---------------------------------------------------------------------------\u001b[0m",
      "\u001b[1;31mModuleNotFoundError\u001b[0m                       Traceback (most recent call last)",
      "\u001b[1;32m<ipython-input-17-9f433872b5af>\u001b[0m in \u001b[0;36m<module>\u001b[1;34m\u001b[0m\n\u001b[0;32m      4\u001b[0m \u001b[0mexternal_stylesheets\u001b[0m\u001b[1;33m=\u001b[0m\u001b[1;33m[\u001b[0m\u001b[1;34m'https://codepen.io/chriddyp/pen/bWLwgP.css'\u001b[0m\u001b[1;33m]\u001b[0m\u001b[1;33m\u001b[0m\u001b[1;33m\u001b[0m\u001b[0m\n\u001b[0;32m      5\u001b[0m \u001b[1;33m\u001b[0m\u001b[0m\n\u001b[1;32m----> 6\u001b[1;33m \u001b[0mapp\u001b[0m \u001b[1;33m=\u001b[0m \u001b[0mJupyterDash\u001b[0m\u001b[1;33m(\u001b[0m\u001b[0m__name__\u001b[0m\u001b[1;33m)\u001b[0m\u001b[1;33m\u001b[0m\u001b[1;33m\u001b[0m\u001b[0m\n\u001b[0m\u001b[0;32m      7\u001b[0m \u001b[1;33m\u001b[0m\u001b[0m\n\u001b[0;32m      8\u001b[0m \u001b[1;31m# Dash code here\u001b[0m\u001b[1;33m\u001b[0m\u001b[1;33m\u001b[0m\u001b[1;33m\u001b[0m\u001b[0m\n",
      "\u001b[1;32mc:\\Users\\Elvo\\anaconda3\\envs\\learn-env\\lib\\site-packages\\jupyter_dash\\jupyter_app.py\u001b[0m in \u001b[0;36m__init__\u001b[1;34m(self, name, server_url, **kwargs)\u001b[0m\n\u001b[0;32m    101\u001b[0m \u001b[1;33m\u001b[0m\u001b[0m\n\u001b[0;32m    102\u001b[0m         \u001b[1;31m# Call superclass constructor\u001b[0m\u001b[1;33m\u001b[0m\u001b[1;33m\u001b[0m\u001b[1;33m\u001b[0m\u001b[0m\n\u001b[1;32m--> 103\u001b[1;33m         \u001b[0msuper\u001b[0m\u001b[1;33m(\u001b[0m\u001b[0mJupyterDash\u001b[0m\u001b[1;33m,\u001b[0m \u001b[0mself\u001b[0m\u001b[1;33m)\u001b[0m\u001b[1;33m.\u001b[0m\u001b[0m__init__\u001b[0m\u001b[1;33m(\u001b[0m\u001b[0mname\u001b[0m\u001b[1;33m=\u001b[0m\u001b[0mname\u001b[0m\u001b[1;33m,\u001b[0m \u001b[1;33m**\u001b[0m\u001b[0mkwargs\u001b[0m\u001b[1;33m)\u001b[0m\u001b[1;33m\u001b[0m\u001b[1;33m\u001b[0m\u001b[0m\n\u001b[0m\u001b[0;32m    104\u001b[0m \u001b[1;33m\u001b[0m\u001b[0m\n\u001b[0;32m    105\u001b[0m         \u001b[1;32mif\u001b[0m \u001b[1;32mnot\u001b[0m \u001b[0mJupyterDash\u001b[0m\u001b[1;33m.\u001b[0m\u001b[0m_in_ipython\u001b[0m\u001b[1;33m:\u001b[0m\u001b[1;33m\u001b[0m\u001b[1;33m\u001b[0m\u001b[0m\n",
      "\u001b[1;32mc:\\Users\\Elvo\\anaconda3\\envs\\learn-env\\lib\\site-packages\\dash\\dash.py\u001b[0m in \u001b[0;36m__init__\u001b[1;34m(self, name, server, assets_folder, pages_folder, use_pages, assets_url_path, assets_ignore, assets_external_path, eager_loading, include_assets_files, include_pages_meta, url_base_pathname, requests_pathname_prefix, routes_pathname_prefix, serve_locally, compress, meta_tags, index_string, external_scripts, external_stylesheets, suppress_callback_exceptions, prevent_initial_callbacks, show_undo_redo, extra_hot_reload_paths, plugins, title, update_title, long_callback_manager, background_callback_manager, add_log_handler, hooks, routing_callback_inputs, **obsolete)\u001b[0m\n\u001b[0;32m    531\u001b[0m \u001b[1;33m\u001b[0m\u001b[0m\n\u001b[0;32m    532\u001b[0m         \u001b[1;32mif\u001b[0m \u001b[0mself\u001b[0m\u001b[1;33m.\u001b[0m\u001b[0mserver\u001b[0m \u001b[1;32mis\u001b[0m \u001b[1;32mnot\u001b[0m \u001b[1;32mNone\u001b[0m\u001b[1;33m:\u001b[0m\u001b[1;33m\u001b[0m\u001b[1;33m\u001b[0m\u001b[0m\n\u001b[1;32m--> 533\u001b[1;33m             \u001b[0mself\u001b[0m\u001b[1;33m.\u001b[0m\u001b[0minit_app\u001b[0m\u001b[1;33m(\u001b[0m\u001b[1;33m)\u001b[0m\u001b[1;33m\u001b[0m\u001b[1;33m\u001b[0m\u001b[0m\n\u001b[0m\u001b[0;32m    534\u001b[0m \u001b[1;33m\u001b[0m\u001b[0m\n\u001b[0;32m    535\u001b[0m         \u001b[0mself\u001b[0m\u001b[1;33m.\u001b[0m\u001b[0mlogger\u001b[0m\u001b[1;33m.\u001b[0m\u001b[0msetLevel\u001b[0m\u001b[1;33m(\u001b[0m\u001b[0mlogging\u001b[0m\u001b[1;33m.\u001b[0m\u001b[0mINFO\u001b[0m\u001b[1;33m)\u001b[0m\u001b[1;33m\u001b[0m\u001b[1;33m\u001b[0m\u001b[0m\n",
      "\u001b[1;32mc:\\Users\\Elvo\\anaconda3\\envs\\learn-env\\lib\\site-packages\\dash\\dash.py\u001b[0m in \u001b[0;36minit_app\u001b[1;34m(self, app, **kwargs)\u001b[0m\n\u001b[0;32m    611\u001b[0m         \u001b[0mself\u001b[0m\u001b[1;33m.\u001b[0m\u001b[0menable_pages\u001b[0m\u001b[1;33m(\u001b[0m\u001b[1;33m)\u001b[0m\u001b[1;33m\u001b[0m\u001b[1;33m\u001b[0m\u001b[0m\n\u001b[0;32m    612\u001b[0m \u001b[1;33m\u001b[0m\u001b[0m\n\u001b[1;32m--> 613\u001b[1;33m         \u001b[0mself\u001b[0m\u001b[1;33m.\u001b[0m\u001b[0m_setup_plotlyjs\u001b[0m\u001b[1;33m(\u001b[0m\u001b[1;33m)\u001b[0m\u001b[1;33m\u001b[0m\u001b[1;33m\u001b[0m\u001b[0m\n\u001b[0m\u001b[0;32m    614\u001b[0m \u001b[1;33m\u001b[0m\u001b[0m\n\u001b[0;32m    615\u001b[0m     \u001b[1;32mdef\u001b[0m \u001b[0m_add_url\u001b[0m\u001b[1;33m(\u001b[0m\u001b[0mself\u001b[0m\u001b[1;33m,\u001b[0m \u001b[0mname\u001b[0m\u001b[1;33m,\u001b[0m \u001b[0mview_func\u001b[0m\u001b[1;33m,\u001b[0m \u001b[0mmethods\u001b[0m\u001b[1;33m=\u001b[0m\u001b[1;33m(\u001b[0m\u001b[1;34m\"GET\"\u001b[0m\u001b[1;33m,\u001b[0m\u001b[1;33m)\u001b[0m\u001b[1;33m)\u001b[0m\u001b[1;33m:\u001b[0m\u001b[1;33m\u001b[0m\u001b[1;33m\u001b[0m\u001b[0m\n",
      "\u001b[1;32mc:\\Users\\Elvo\\anaconda3\\envs\\learn-env\\lib\\site-packages\\dash\\dash.py\u001b[0m in \u001b[0;36m_setup_plotlyjs\u001b[1;34m(self)\u001b[0m\n\u001b[0;32m    646\u001b[0m     \u001b[1;32mdef\u001b[0m \u001b[0m_setup_plotlyjs\u001b[0m\u001b[1;33m(\u001b[0m\u001b[0mself\u001b[0m\u001b[1;33m)\u001b[0m\u001b[1;33m:\u001b[0m\u001b[1;33m\u001b[0m\u001b[1;33m\u001b[0m\u001b[0m\n\u001b[0;32m    647\u001b[0m         \u001b[1;31m# pylint: disable=import-outside-toplevel\u001b[0m\u001b[1;33m\u001b[0m\u001b[1;33m\u001b[0m\u001b[1;33m\u001b[0m\u001b[0m\n\u001b[1;32m--> 648\u001b[1;33m         \u001b[1;32mfrom\u001b[0m \u001b[0mplotly\u001b[0m\u001b[1;33m.\u001b[0m\u001b[0moffline\u001b[0m \u001b[1;32mimport\u001b[0m \u001b[0mget_plotlyjs_version\u001b[0m\u001b[1;33m\u001b[0m\u001b[1;33m\u001b[0m\u001b[0m\n\u001b[0m\u001b[0;32m    649\u001b[0m \u001b[1;33m\u001b[0m\u001b[0m\n\u001b[0;32m    650\u001b[0m         \u001b[0murl\u001b[0m \u001b[1;33m=\u001b[0m \u001b[1;34mf\"https://cdn.plot.ly/plotly-{get_plotlyjs_version()}.min.js\"\u001b[0m\u001b[1;33m\u001b[0m\u001b[1;33m\u001b[0m\u001b[0m\n",
      "\u001b[1;31mModuleNotFoundError\u001b[0m: No module named 'plotly.offline'"
     ]
    }
   ],
   "source": [
    "# server = flask.Flask(__name__)\n",
    "# server.secret_key = os.environ.get('secret_key', str(randint(0, 1000000)))\n",
    "\n",
    "external_stylesheets=['https://codepen.io/chriddyp/pen/bWLwgP.css']\n",
    "\n",
    "app = JupyterDash(__name__)\n",
    "\n",
    "# Dash code here\n",
    "\n",
    "data = pd.read_csv('./assets/cities_df', index_col=0)\n",
    "X = data['Attraction']\n",
    "y = data['City']\n",
    "X_train, X_test, y_train, y_test = train_test_split(X, y, test_size=.2, random_state=123)\n",
    "\n",
    "def preprocess_df(df, column, preview=True):\n",
    "    \"\"\"\n",
    "    Input df with raw text attractions.\n",
    "    Return df with preprocessed text.\n",
    "    \"\"\"\n",
    "    \n",
    "    df[column] = df['Attraction'].apply(lambda x: x.lower())\n",
    "    df[column] = df[column].apply(lambda x: re.sub('[%s]' % re.escape(string.punctuation), '', x))\n",
    "    df[column] = df[column].apply(lambda x: re.sub('\\w*\\d\\w*','', x))\n",
    "    \n",
    "    return df\n",
    "\n",
    "X_train_cleaned = preprocess_df(pd.DataFrame(X_train, columns=['Attraction']),\n",
    "                                'cleaned')\n",
    "\n",
    "\n",
    "new_stopwords = stopwords.words('english') + list(string.punctuation)\n",
    "new_stopwords += ['bali', 'barcelona', 'crete', 'dubai', 'istanbul', 'london',\n",
    "                  'majorca', 'phuket', 'paris', 'rome', 'sicily', 'mallorca',\n",
    "                  'goa', 'private', 'airport', 'transfer']\n",
    "\n",
    "vectorizer = TfidfVectorizer(analyzer='word',\n",
    "                             stop_words=new_stopwords,\n",
    "                             decode_error='ignore')\n",
    "                                \n",
    "X_train_tfidf = vectorizer.fit_transform(X_train_cleaned['cleaned'])\n",
    "    \n",
    "model = load('./assets/non_lemmatized_model')\n",
    "\n",
    "def preprocess_text(text):\n",
    "    \"\"\"\n",
    "    Input raw text.\n",
    "    Return preprocessed text.\n",
    "    \"\"\"\n",
    "    \n",
    "    preprocessed = text.lower()\n",
    "    preprocessed = re.sub('[%s]' % re.escape(string.punctuation), '', preprocessed)\n",
    "    preprocessed = re.sub('\\w*\\d\\w*','', preprocessed)\n",
    "        \n",
    "    return [preprocessed]\n",
    "\n",
    "def get_prediction(raw_text):\n",
    "    try:\n",
    "        preprocessed_text = preprocess_text(raw_text)\n",
    "        probas = model.predict_proba(vectorizer.transform(preprocessed_text))\n",
    "        classes = model.classes_\n",
    "        first_pred = classes[probas.argmax()]\n",
    "        second_pred = classes[np.argsort(probas)[:, 10]][0]\n",
    "        return first_pred, second_pred\n",
    "    except:\n",
    "        pass\n",
    "    \n",
    "\n",
    "bali_wordcloud = './assets/bali_wordcloud.png'\n",
    "barcelona_wordcloud = './assets/barcelona_wordcloud.png'\n",
    "crete_wordcloud = './assets/crete_wordcloud.png'\n",
    "dubai_wordcloud = './assets/dubai_wordcloud.png'\n",
    "goa_wordcloud = './assets/goa_wordcloud.png'\n",
    "istan_wordcloud = './assets/istanbul_wordcloud.png'\n",
    "london_wordcloud = './assets/london_wordcloud.png'\n",
    "majorca_wordcloud = './assets/majorca_wordcloud.png'\n",
    "paris_wordcloud = './assets/paris_wordcloud.png'\n",
    "phuket_wordcloud = './assets/phuket_wordcloud.png'\n",
    "rome_wordcloud = './assets/rome_wordcloud.png'\n",
    "sicily_wordcloud = './assets/sicily_wordcloud.png'\n",
    "    \n",
    "# The app layout\n",
    "app.layout = html.Div(children=[\n",
    "    html.H1(children='The Destination Dictionary?',\n",
    "            style={'textAlign':'center', 'margin-top':'5%'}),\n",
    "\n",
    "    html.H4(children='Not sure where to travel? Use this machine learning algorithm to find your perfect destination in just a few words.',\n",
    "            style={'textAlign': 'center'}),\n",
    "    \n",
    "    html.Br(),\n",
    "    \n",
    "    html.Div([\"What activities do you want to do on vacation?  \",\n",
    "              dcc.Input(id='my-input', value='', type='text',\n",
    "                        placeholder= 'ex. I want to go to the beach',\n",
    "                        style={'width':'65%'})]),\n",
    "    html.Hr(),\n",
    "    \n",
    "    html.H5(children='You should travel to:',\n",
    "            style={'textAlign': 'center'}),\n",
    "    \n",
    "    html.H4(id='my-output', style={'textAlign': 'center'}),\n",
    "    \n",
    "    html.Br(),\n",
    "    \n",
    "    html.Img(id='image', style={'width':'75%', 'margin-bottom':'5%',\n",
    "                                'margin-left':'10%', 'margin-right':'10%'}),\n",
    "    \n",
    "    html.Hr(),\n",
    "\n",
    "    html.H5(children='Methodology',\n",
    "            style={'margin-left':'10%', 'margin-right':'10%'}),\n",
    "    \n",
    "    html.Div(children=\"This machine learning algorithm is predicts your perfect destination based on natural language processing and learning from over 28,000 text data points indicating attractions to do in 12 different cities from TripAdvisor's list of Traveler's Choice destinations for Popular World Destinations 2020.\",\n",
    "             style={'margin-left':'10%', 'margin-right':'10%'}),\n",
    "    \n",
    "    html.Br(),\n",
    "    \n",
    "    html.Div(children='Created by: Tia Plagata | tiaplagata@gmail.com',\n",
    "             style={'margin-left':'10%', 'margin-right':'10%'}), \n",
    "])\n",
    "    \n",
    "\n",
    "@app.callback(\n",
    "    Output(component_id='my-output', component_property='children'),\n",
    "    Input(component_id='my-input', component_property='value'))\n",
    "def update_output_div(input_value):\n",
    "    first_pred, second_pred = get_prediction(input_value)        \n",
    "    return first_pred\n",
    "\n",
    "\n",
    "@app.callback(\n",
    "    Output(component_id='image', component_property='src'),\n",
    "    Input('my-output', 'children'))\n",
    "def update_image(city):\n",
    "    if city == 'Rome, Italy':\n",
    "        city_img = rome_wordcloud\n",
    "    elif city == 'Crete, Greece':\n",
    "        city_img = crete_wordcloud\n",
    "    elif city == 'Paris, France':\n",
    "        city_img = paris_wordcloud\n",
    "    elif city == 'Bali, Indonesia':\n",
    "        city_img = bali_wordcloud\n",
    "    elif city == 'Majorca, Balearic Islands':\n",
    "        city_img = majorca_wordcloud\n",
    "    elif city == 'Phuket, Thailand':\n",
    "        city_img = phuket_wordcloud\n",
    "    elif city == 'Barcelona, Spain':\n",
    "        city_img = barcelona_wordcloud\n",
    "    elif city == 'Dubai, United Arab Emirates':\n",
    "        city_img = dubai_wordcloud\n",
    "    elif city == 'Sicily, Italy':\n",
    "        city_img = sicily_wordcloud\n",
    "    elif city == 'Goa, India':\n",
    "        city_img = goa_wordcloud\n",
    "    elif city == 'Istanbul, Turkey':\n",
    "        city_img = istan_wordcloud\n",
    "    else:\n",
    "        city_img = london_wordcloud\n",
    "    return city_img\n",
    "\n",
    "\n",
    "# Run app and display result inline in the notebook\n",
    "# app.run_server(mode='inline')\n",
    "if __name__ == '__main__':\n",
    "    app.run_server(mode='inline', host='localhost')"
   ]
  },
  {
   "cell_type": "code",
   "execution_count": null,
   "metadata": {
    "ExecuteTime": {
     "end_time": "2021-01-21T22:33:57.932016Z",
     "start_time": "2021-01-21T22:33:57.922919Z"
    }
   },
   "outputs": [],
   "source": [
    "first_pred, second_pred = get_prediction('I want to visit art galleries')"
   ]
  },
  {
   "cell_type": "code",
   "execution_count": null,
   "metadata": {
    "ExecuteTime": {
     "end_time": "2021-01-21T22:33:58.152561Z",
     "start_time": "2021-01-21T22:33:58.141960Z"
    }
   },
   "outputs": [
    {
     "data": {
      "text/plain": [
       "'London, United Kingdom'"
      ]
     },
     "execution_count": 4,
     "metadata": {},
     "output_type": "execute_result"
    }
   ],
   "source": [
    "second_pred"
   ]
  },
  {
   "cell_type": "code",
   "execution_count": null,
   "metadata": {},
   "outputs": [],
   "source": []
  }
 ],
 "metadata": {
  "kernelspec": {
   "display_name": "learn-env",
   "language": "python",
   "name": "python3"
  },
  "language_info": {
   "codemirror_mode": {
    "name": "ipython",
    "version": 3
   },
   "file_extension": ".py",
   "mimetype": "text/x-python",
   "name": "python",
   "nbconvert_exporter": "python",
   "pygments_lexer": "ipython3",
   "version": "3.8.5"
  },
  "toc": {
   "base_numbering": 1,
   "nav_menu": {},
   "number_sections": true,
   "sideBar": true,
   "skip_h1_title": false,
   "title_cell": "Table of Contents",
   "title_sidebar": "Contents",
   "toc_cell": false,
   "toc_position": {},
   "toc_section_display": true,
   "toc_window_display": false
  }
 },
 "nbformat": 4,
 "nbformat_minor": 4
}
