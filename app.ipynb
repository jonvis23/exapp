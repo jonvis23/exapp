{
 "cells": [
  {
   "cell_type": "code",
   "execution_count": 2,
   "metadata": {},
   "outputs": [
    {
     "name": "stdout",
     "output_type": "stream",
     "text": [
      "Requirement already satisfied: gunicorn>=19.7.1 in c:\\users\\elvo\\anaconda3\\envs\\learn-env\\lib\\site-packages (from -r requirements.txt (line 1)) (21.2.0)\n",
      "Requirement already satisfied: dash==1.18.1 in c:\\users\\elvo\\anaconda3\\envs\\learn-env\\lib\\site-packages (from -r requirements.txt (line 3)) (1.18.1)\n",
      "Requirement already satisfied: dash-renderer==1.8.3 in c:\\users\\elvo\\anaconda3\\envs\\learn-env\\lib\\site-packages (from -r requirements.txt (line 4)) (1.8.3)\n",
      "Requirement already satisfied: dash-html-components==1.1.1 in c:\\users\\elvo\\anaconda3\\envs\\learn-env\\lib\\site-packages (from -r requirements.txt (line 5)) (1.1.1)\n",
      "Requirement already satisfied: dash-core-components==1.14.1 in c:\\users\\elvo\\anaconda3\\envs\\learn-env\\lib\\site-packages (from -r requirements.txt (line 6)) (1.14.1)\n",
      "Requirement already satisfied: flask>=1.1.2 in c:\\users\\elvo\\anaconda3\\envs\\learn-env\\lib\\site-packages (from -r requirements.txt (line 7)) (1.1.2)\n",
      "Requirement already satisfied: joblib==0.17.0 in c:\\users\\elvo\\anaconda3\\envs\\learn-env\\lib\\site-packages (from -r requirements.txt (line 8)) (0.17.0)\n",
      "Requirement already satisfied: regex==2020.10.11 in c:\\users\\elvo\\anaconda3\\envs\\learn-env\\lib\\site-packages (from -r requirements.txt (line 9)) (2020.10.11)\n",
      "Requirement already satisfied: nltk==3.5 in c:\\users\\elvo\\anaconda3\\envs\\learn-env\\lib\\site-packages (from -r requirements.txt (line 10)) (3.5)\n",
      "Requirement already satisfied: numpy==1.18.5 in c:\\users\\elvo\\anaconda3\\envs\\learn-env\\lib\\site-packages (from -r requirements.txt (line 11)) (1.18.5)\n",
      "Requirement already satisfied: pandas==0.25.3 in c:\\users\\elvo\\anaconda3\\envs\\learn-env\\lib\\site-packages (from -r requirements.txt (line 12)) (0.25.3)\n",
      "Requirement already satisfied: scikit-learn==0.23.2 in c:\\users\\elvo\\anaconda3\\envs\\learn-env\\lib\\site-packages (from -r requirements.txt (line 13)) (0.23.2)\n",
      "Requirement already satisfied: packaging in c:\\users\\elvo\\anaconda3\\envs\\learn-env\\lib\\site-packages (from gunicorn>=19.7.1->-r requirements.txt (line 1)) (20.4)\n",
      "Requirement already satisfied: future in c:\\users\\elvo\\anaconda3\\envs\\learn-env\\lib\\site-packages (from dash==1.18.1->-r requirements.txt (line 3)) (0.18.2)\n",
      "Requirement already satisfied: plotly in c:\\users\\elvo\\anaconda3\\envs\\learn-env\\lib\\site-packages (from dash==1.18.1->-r requirements.txt (line 3)) (5.18.0)\n",
      "Requirement already satisfied: flask-compress in c:\\users\\elvo\\anaconda3\\envs\\learn-env\\lib\\site-packages (from dash==1.18.1->-r requirements.txt (line 3)) (1.14)\n",
      "Requirement already satisfied: dash-table==4.11.1 in c:\\users\\elvo\\anaconda3\\envs\\learn-env\\lib\\site-packages (from dash==1.18.1->-r requirements.txt (line 3)) (4.11.1)\n",
      "Requirement already satisfied: Jinja2>=2.10.1 in c:\\users\\elvo\\anaconda3\\envs\\learn-env\\lib\\site-packages (from flask>=1.1.2->-r requirements.txt (line 7)) (3.1.2)\n",
      "Requirement already satisfied: Werkzeug>=0.15 in c:\\users\\elvo\\anaconda3\\envs\\learn-env\\lib\\site-packages (from flask>=1.1.2->-r requirements.txt (line 7)) (3.0.1)\n",
      "Requirement already satisfied: itsdangerous>=0.24 in c:\\users\\elvo\\anaconda3\\envs\\learn-env\\lib\\site-packages (from flask>=1.1.2->-r requirements.txt (line 7)) (2.1.2)\n",
      "Requirement already satisfied: click>=5.1 in c:\\users\\elvo\\anaconda3\\envs\\learn-env\\lib\\site-packages (from flask>=1.1.2->-r requirements.txt (line 7)) (8.1.7)\n",
      "Requirement already satisfied: tqdm in c:\\users\\elvo\\anaconda3\\envs\\learn-env\\lib\\site-packages (from nltk==3.5->-r requirements.txt (line 10)) (4.50.2)\n",
      "Requirement already satisfied: python-dateutil>=2.6.1 in c:\\users\\elvo\\anaconda3\\envs\\learn-env\\lib\\site-packages (from pandas==0.25.3->-r requirements.txt (line 12)) (2.8.2)\n",
      "Requirement already satisfied: pytz>=2017.2 in c:\\users\\elvo\\anaconda3\\envs\\learn-env\\lib\\site-packages (from pandas==0.25.3->-r requirements.txt (line 12)) (2020.1)\n",
      "Requirement already satisfied: scipy>=0.19.1 in c:\\users\\elvo\\anaconda3\\envs\\learn-env\\lib\\site-packages (from scikit-learn==0.23.2->-r requirements.txt (line 13)) (1.5.0)\n",
      "Requirement already satisfied: threadpoolctl>=2.0.0 in c:\\users\\elvo\\anaconda3\\envs\\learn-env\\lib\\site-packages (from scikit-learn==0.23.2->-r requirements.txt (line 13)) (2.1.0)\n",
      "Requirement already satisfied: six in c:\\users\\elvo\\anaconda3\\envs\\learn-env\\lib\\site-packages (from packaging->gunicorn>=19.7.1->-r requirements.txt (line 1)) (1.15.0)\n",
      "Requirement already satisfied: pyparsing>=2.0.2 in c:\\users\\elvo\\anaconda3\\envs\\learn-env\\lib\\site-packages (from packaging->gunicorn>=19.7.1->-r requirements.txt (line 1)) (2.4.7)\n",
      "Requirement already satisfied: tenacity>=6.2.0 in c:\\users\\elvo\\anaconda3\\envs\\learn-env\\lib\\site-packages (from plotly->dash==1.18.1->-r requirements.txt (line 3)) (8.2.3)\n",
      "Requirement already satisfied: brotli; platform_python_implementation != \"PyPy\" in c:\\users\\elvo\\anaconda3\\envs\\learn-env\\lib\\site-packages (from flask-compress->dash==1.18.1->-r requirements.txt (line 3)) (1.1.0)\n",
      "Requirement already satisfied: MarkupSafe>=2.0 in c:\\users\\elvo\\anaconda3\\envs\\learn-env\\lib\\site-packages (from Jinja2>=2.10.1->flask>=1.1.2->-r requirements.txt (line 7)) (2.1.3)\n",
      "Requirement already satisfied: colorama; platform_system == \"Windows\" in c:\\users\\elvo\\anaconda3\\envs\\learn-env\\lib\\site-packages (from click>=5.1->flask>=1.1.2->-r requirements.txt (line 7)) (0.4.3)\n",
      "Note: you may need to restart the kernel to use updated packages.\n"
     ]
    }
   ],
   "source": [
    "\n",
    "pip install -r requirements.txt\n"
   ]
  },
  {
   "cell_type": "code",
   "execution_count": 4,
   "metadata": {},
   "outputs": [
    {
     "name": "stdout",
     "output_type": "stream",
     "text": [
      "Requirement already up-to-date: Jinja2 in c:\\users\\elvo\\anaconda3\\envs\\learn-env\\lib\\site-packages (3.1.2)\n",
      "Requirement already satisfied, skipping upgrade: MarkupSafe>=2.0 in c:\\users\\elvo\\anaconda3\\envs\\learn-env\\lib\\site-packages (from Jinja2) (2.1.3)\n",
      "Note: you may need to restart the kernel to use updated packages.\n"
     ]
    }
   ],
   "source": [
    "pip install --upgrade Jinja2"
   ]
  },
  {
   "cell_type": "code",
   "execution_count": 1,
   "metadata": {
    "ExecuteTime": {
     "end_time": "2021-01-21T22:33:54.434794Z",
     "start_time": "2021-01-21T22:33:53.033936Z"
    }
   },
   "outputs": [
    {
     "ename": "ImportError",
     "evalue": "cannot import name 'escape' from 'jinja2' (c:\\Users\\Elvo\\anaconda3\\envs\\learn-env\\lib\\site-packages\\jinja2\\__init__.py)",
     "output_type": "error",
     "traceback": [
      "\u001b[1;31m---------------------------------------------------------------------------\u001b[0m",
      "\u001b[1;31mImportError\u001b[0m                               Traceback (most recent call last)",
      "\u001b[1;32m<ipython-input-1-b7f1a4b92b72>\u001b[0m in \u001b[0;36m<module>\u001b[1;34m\u001b[0m\n\u001b[0;32m      3\u001b[0m \u001b[1;32mfrom\u001b[0m \u001b[0mrandom\u001b[0m \u001b[1;32mimport\u001b[0m \u001b[0mrandint\u001b[0m\u001b[1;33m\u001b[0m\u001b[1;33m\u001b[0m\u001b[0m\n\u001b[0;32m      4\u001b[0m \u001b[1;33m\u001b[0m\u001b[0m\n\u001b[1;32m----> 5\u001b[1;33m \u001b[1;32mimport\u001b[0m \u001b[0mflask\u001b[0m\u001b[1;33m\u001b[0m\u001b[1;33m\u001b[0m\u001b[0m\n\u001b[0m\u001b[0;32m      6\u001b[0m \u001b[1;32mimport\u001b[0m \u001b[0mdash\u001b[0m\u001b[1;33m\u001b[0m\u001b[1;33m\u001b[0m\u001b[0m\n\u001b[0;32m      7\u001b[0m \u001b[1;32mfrom\u001b[0m \u001b[0mdash\u001b[0m \u001b[1;32mimport\u001b[0m \u001b[0mdcc\u001b[0m\u001b[1;33m\u001b[0m\u001b[1;33m\u001b[0m\u001b[0m\n",
      "\u001b[1;32mc:\\Users\\Elvo\\anaconda3\\envs\\learn-env\\lib\\site-packages\\flask\\__init__.py\u001b[0m in \u001b[0;36m<module>\u001b[1;34m\u001b[0m\n\u001b[0;32m     12\u001b[0m \u001b[1;31m# utilities we import from Werkzeug and Jinja2 that are unused\u001b[0m\u001b[1;33m\u001b[0m\u001b[1;33m\u001b[0m\u001b[1;33m\u001b[0m\u001b[0m\n\u001b[0;32m     13\u001b[0m \u001b[1;31m# in the module but are exported as public interface.\u001b[0m\u001b[1;33m\u001b[0m\u001b[1;33m\u001b[0m\u001b[1;33m\u001b[0m\u001b[0m\n\u001b[1;32m---> 14\u001b[1;33m \u001b[1;32mfrom\u001b[0m \u001b[0mjinja2\u001b[0m \u001b[1;32mimport\u001b[0m \u001b[0mescape\u001b[0m\u001b[1;33m\u001b[0m\u001b[1;33m\u001b[0m\u001b[0m\n\u001b[0m\u001b[0;32m     15\u001b[0m \u001b[1;32mfrom\u001b[0m \u001b[0mjinja2\u001b[0m \u001b[1;32mimport\u001b[0m \u001b[0mMarkup\u001b[0m\u001b[1;33m\u001b[0m\u001b[1;33m\u001b[0m\u001b[0m\n\u001b[0;32m     16\u001b[0m \u001b[1;32mfrom\u001b[0m \u001b[0mwerkzeug\u001b[0m\u001b[1;33m.\u001b[0m\u001b[0mexceptions\u001b[0m \u001b[1;32mimport\u001b[0m \u001b[0mabort\u001b[0m\u001b[1;33m\u001b[0m\u001b[1;33m\u001b[0m\u001b[0m\n",
      "\u001b[1;31mImportError\u001b[0m: cannot import name 'escape' from 'jinja2' (c:\\Users\\Elvo\\anaconda3\\envs\\learn-env\\lib\\site-packages\\jinja2\\__init__.py)"
     ]
    }
   ],
   "source": [
    "# Import required libraries\n",
    "import os\n",
    "from random import randint\n",
    "\n",
    "import flask\n",
    "import dash\n",
    "from dash import dcc\n",
    "from dash import html\n",
    "import dash_bootstrap_components as dbc\n",
    "from dash.dependencies import Input, Output, State\n",
    "\n",
    "import plotly.express as px\n",
    "import plotly.graph_objects as go\n",
    "import plotly.io as pio\n",
    "\n",
    "import pandas as pd\n",
    "import numpy as np\n",
    "\n",
    "from jupyter_dash import JupyterDash\n",
    "import ipywidgets\n",
    "\n",
    "from joblib import load\n",
    "\n",
    "import pickle\n",
    "import regex as re\n",
    "import string\n",
    "from nltk.corpus import stopwords\n",
    "\n",
    "\n",
    "from sklearn.feature_extraction.text import TfidfVectorizer\n",
    "from sklearn.pipeline import Pipeline\n",
    "from sklearn.model_selection import train_test_split"
   ]
  },
  {
   "cell_type": "code",
   "execution_count": 3,
   "metadata": {
    "ExecuteTime": {
     "end_time": "2021-01-21T22:33:55.126933Z",
     "start_time": "2021-01-21T22:33:54.436592Z"
    },
    "scrolled": false
   },
   "outputs": [
    {
     "ename": "NameError",
     "evalue": "name 'train_test_split' is not defined",
     "output_type": "error",
     "traceback": [
      "\u001b[1;31m---------------------------------------------------------------------------\u001b[0m",
      "\u001b[1;31mNameError\u001b[0m                                 Traceback (most recent call last)",
      "\u001b[1;32m<ipython-input-3-64ab14a3444a>\u001b[0m in \u001b[0;36m<module>\u001b[1;34m\u001b[0m\n\u001b[0;32m     12\u001b[0m \u001b[0mX\u001b[0m \u001b[1;33m=\u001b[0m \u001b[0mdata\u001b[0m\u001b[1;33m[\u001b[0m\u001b[1;34m'Attraction'\u001b[0m\u001b[1;33m]\u001b[0m\u001b[1;33m\u001b[0m\u001b[1;33m\u001b[0m\u001b[0m\n\u001b[0;32m     13\u001b[0m \u001b[0my\u001b[0m \u001b[1;33m=\u001b[0m \u001b[0mdata\u001b[0m\u001b[1;33m[\u001b[0m\u001b[1;34m'City'\u001b[0m\u001b[1;33m]\u001b[0m\u001b[1;33m\u001b[0m\u001b[1;33m\u001b[0m\u001b[0m\n\u001b[1;32m---> 14\u001b[1;33m \u001b[0mX_train\u001b[0m\u001b[1;33m,\u001b[0m \u001b[0mX_test\u001b[0m\u001b[1;33m,\u001b[0m \u001b[0my_train\u001b[0m\u001b[1;33m,\u001b[0m \u001b[0my_test\u001b[0m \u001b[1;33m=\u001b[0m \u001b[0mtrain_test_split\u001b[0m\u001b[1;33m(\u001b[0m\u001b[0mX\u001b[0m\u001b[1;33m,\u001b[0m \u001b[0my\u001b[0m\u001b[1;33m,\u001b[0m \u001b[0mtest_size\u001b[0m\u001b[1;33m=\u001b[0m\u001b[1;36m.2\u001b[0m\u001b[1;33m,\u001b[0m \u001b[0mrandom_state\u001b[0m\u001b[1;33m=\u001b[0m\u001b[1;36m123\u001b[0m\u001b[1;33m)\u001b[0m\u001b[1;33m\u001b[0m\u001b[1;33m\u001b[0m\u001b[0m\n\u001b[0m\u001b[0;32m     15\u001b[0m \u001b[1;33m\u001b[0m\u001b[0m\n\u001b[0;32m     16\u001b[0m \u001b[1;32mdef\u001b[0m \u001b[0mpreprocess_df\u001b[0m\u001b[1;33m(\u001b[0m\u001b[0mdf\u001b[0m\u001b[1;33m,\u001b[0m \u001b[0mcolumn\u001b[0m\u001b[1;33m,\u001b[0m \u001b[0mpreview\u001b[0m\u001b[1;33m=\u001b[0m\u001b[1;32mTrue\u001b[0m\u001b[1;33m)\u001b[0m\u001b[1;33m:\u001b[0m\u001b[1;33m\u001b[0m\u001b[1;33m\u001b[0m\u001b[0m\n",
      "\u001b[1;31mNameError\u001b[0m: name 'train_test_split' is not defined"
     ]
    }
   ],
   "source": [
    "# server = flask.Flask(__name__)\n",
    "# server.secret_key = os.environ.get('secret_key', str(randint(0, 1000000)))\n",
    "external_stylesheets=['https://codepen.io/chriddyp/pen/bWLwgP.css']\n",
    "\n",
    "# app = JupyterDash(__name__)\n",
    "app=dash.Dash(__name__)\n",
    "\n",
    "\n",
    "# Dash code here\n",
    "\n",
    "data = pd.read_csv('./assets/cities_df', index_col=0)\n",
    "X = data['Attraction']\n",
    "y = data['City']\n",
    "X_train, X_test, y_train, y_test = train_test_split(X, y, test_size=.2, random_state=123)\n",
    "\n",
    "def preprocess_df(df, column, preview=True):\n",
    "    \"\"\"\n",
    "    Input df with raw text attractions.\n",
    "    Return df with preprocessed text.\n",
    "    \"\"\"\n",
    "    \n",
    "    df[column] = df['Attraction'].apply(lambda x: x.lower())\n",
    "    df[column] = df[column].apply(lambda x: re.sub('[%s]' % re.escape(string.punctuation), '', x))\n",
    "    df[column] = df[column].apply(lambda x: re.sub('\\w*\\d\\w*','', x))\n",
    "    \n",
    "    return df\n",
    "\n",
    "X_train_cleaned = preprocess_df(pd.DataFrame(X_train, columns=['Attraction']),\n",
    "                                'cleaned')\n",
    "\n",
    "\n",
    "new_stopwords = stopwords.words('english') + list(string.punctuation)\n",
    "new_stopwords += ['bali', 'barcelona', 'crete', 'dubai', 'istanbul', 'london',\n",
    "                  'majorca', 'phuket', 'paris', 'rome', 'sicily', 'mallorca',\n",
    "                  'goa', 'private', 'airport', 'transfer']\n",
    "\n",
    "vectorizer = TfidfVectorizer(analyzer='word',\n",
    "                             stop_words=new_stopwords,\n",
    "                             decode_error='ignore')\n",
    "                                \n",
    "X_train_tfidf = vectorizer.fit_transform(X_train_cleaned['cleaned'])\n",
    "    \n",
    "model = load('./assets/non_lemmatized_model')\n",
    "\n",
    "def preprocess_text(text):\n",
    "    \"\"\"\n",
    "    Input raw text.\n",
    "    Return preprocessed text.\n",
    "    \"\"\"\n",
    "    \n",
    "    preprocessed = text.lower()\n",
    "    preprocessed = re.sub('[%s]' % re.escape(string.punctuation), '', preprocessed)\n",
    "    preprocessed = re.sub('\\w*\\d\\w*','', preprocessed)\n",
    "        \n",
    "    return [preprocessed]\n",
    "\n",
    "def get_prediction(raw_text):\n",
    "    try:\n",
    "        preprocessed_text = preprocess_text(raw_text)\n",
    "        probas = model.predict_proba(vectorizer.transform(preprocessed_text))\n",
    "        classes = model.classes_\n",
    "        first_pred = classes[probas.argmax()]\n",
    "        second_pred = classes[np.argsort(probas)[:, 10]][0]\n",
    "        return first_pred, second_pred\n",
    "    except:\n",
    "        pass\n",
    "    \n",
    "\n",
    "bali_wordcloud = './assets/bali_wordcloud.png'\n",
    "barcelona_wordcloud = './assets/barcelona_wordcloud.png'\n",
    "crete_wordcloud = './assets/crete_wordcloud.png'\n",
    "dubai_wordcloud = './assets/dubai_wordcloud.png'\n",
    "goa_wordcloud = './assets/goa_wordcloud.png'\n",
    "istan_wordcloud = './assets/istanbul_wordcloud.png'\n",
    "london_wordcloud = './assets/london_wordcloud.png'\n",
    "majorca_wordcloud = './assets/majorca_wordcloud.png'\n",
    "paris_wordcloud = './assets/paris_wordcloud.png'\n",
    "phuket_wordcloud = './assets/phuket_wordcloud.png'\n",
    "rome_wordcloud = './assets/rome_wordcloud.png'\n",
    "sicily_wordcloud = './assets/sicily_wordcloud.png'\n",
    "    \n",
    "# The app layout\n",
    "app.layout = html.Div(children=[\n",
    "    html.H1(children='The Destination Dictionary?',\n",
    "            style={'textAlign':'center', 'margin-top':'5%'}),\n",
    "\n",
    "    html.H4(children='Not sure where to travel? Use this machine learning algorithm to find your perfect destination in just a few words.',\n",
    "            style={'textAlign': 'center'}),\n",
    "    \n",
    "    html.Br(),\n",
    "    \n",
    "    html.Div([\"What activities do you want to do on vacation?  \",\n",
    "              dcc.Input(id='my-input', value='', type='text',\n",
    "                        placeholder= 'ex. I want to go to the beach',\n",
    "                        style={'width':'65%'})]),\n",
    "    html.Hr(),\n",
    "    \n",
    "    html.H5(children='You should travel to:',\n",
    "            style={'textAlign': 'center'}),\n",
    "    \n",
    "    html.H4(id='my-output', style={'textAlign': 'center'}),\n",
    "    \n",
    "    html.Br(),\n",
    "    \n",
    "    html.Img(id='image', style={'width':'75%', 'margin-bottom':'5%',\n",
    "                                'margin-left':'10%', 'margin-right':'10%'}),\n",
    "    \n",
    "    html.Hr(),\n",
    "\n",
    "    html.H5(children='Methodology',\n",
    "            style={'margin-left':'10%', 'margin-right':'10%'}),\n",
    "    \n",
    "    html.Div(children=\"This machine learning algorithm is predicts your perfect destination based on natural language processing and learning from over 28,000 text data points indicating attractions to do in 12 different cities from TripAdvisor's list of Traveler's Choice destinations for Popular World Destinations 2020.\",\n",
    "             style={'margin-left':'10%', 'margin-right':'10%'}),\n",
    "    \n",
    "    html.Br(),\n",
    "    \n",
    "    html.Div(children='Created by: Tia Plagata | tiaplagata@gmail.com',\n",
    "             style={'margin-left':'10%', 'margin-right':'10%'}), \n",
    "])\n",
    "    \n",
    "\n",
    "@app.callback(\n",
    "    Output(component_id='my-output', component_property='children'),\n",
    "    Input(component_id='my-input', component_property='value'))\n",
    "def update_output_div(input_value):\n",
    "    first_pred, second_pred = get_prediction(input_value)        \n",
    "    return first_pred\n",
    "\n",
    "\n",
    "@app.callback(\n",
    "    Output(component_id='image', component_property='src'),\n",
    "    Input('my-output', 'children'))\n",
    "def update_image(city):\n",
    "    if city == 'Rome, Italy':\n",
    "        city_img = rome_wordcloud\n",
    "    elif city == 'Crete, Greece':\n",
    "        city_img = crete_wordcloud\n",
    "    elif city == 'Paris, France':\n",
    "        city_img = paris_wordcloud\n",
    "    elif city == 'Bali, Indonesia':\n",
    "        city_img = bali_wordcloud\n",
    "    elif city == 'Majorca, Balearic Islands':\n",
    "        city_img = majorca_wordcloud\n",
    "    elif city == 'Phuket, Thailand':\n",
    "        city_img = phuket_wordcloud\n",
    "    elif city == 'Barcelona, Spain':\n",
    "        city_img = barcelona_wordcloud\n",
    "    elif city == 'Dubai, United Arab Emirates':\n",
    "        city_img = dubai_wordcloud\n",
    "    elif city == 'Sicily, Italy':\n",
    "        city_img = sicily_wordcloud\n",
    "    elif city == 'Goa, India':\n",
    "        city_img = goa_wordcloud\n",
    "    elif city == 'Istanbul, Turkey':\n",
    "        city_img = istan_wordcloud\n",
    "    else:\n",
    "        city_img = london_wordcloud\n",
    "    return city_img\n",
    "\n",
    "\n",
    "# Run app and display result inline in the notebook\n",
    "# app.run_server(mode='inline')\n",
    "if __name__ == '__main__':\n",
    "    app.run_server(mode='inline', host='localhost')"
   ]
  },
  {
   "cell_type": "code",
   "execution_count": 16,
   "metadata": {
    "ExecuteTime": {
     "end_time": "2021-01-21T22:33:57.932016Z",
     "start_time": "2021-01-21T22:33:57.922919Z"
    }
   },
   "outputs": [
    {
     "ename": "NameError",
     "evalue": "name 'get_prediction' is not defined",
     "output_type": "error",
     "traceback": [
      "\u001b[1;31m---------------------------------------------------------------------------\u001b[0m",
      "\u001b[1;31mNameError\u001b[0m                                 Traceback (most recent call last)",
      "\u001b[1;32m<ipython-input-16-2a9209b250ac>\u001b[0m in \u001b[0;36m<module>\u001b[1;34m\u001b[0m\n\u001b[1;32m----> 1\u001b[1;33m \u001b[0mfirst_pred\u001b[0m\u001b[1;33m,\u001b[0m \u001b[0msecond_pred\u001b[0m \u001b[1;33m=\u001b[0m \u001b[0mget_prediction\u001b[0m\u001b[1;33m(\u001b[0m\u001b[1;34m'I want to visit art galleries'\u001b[0m\u001b[1;33m)\u001b[0m\u001b[1;33m\u001b[0m\u001b[1;33m\u001b[0m\u001b[0m\n\u001b[0m",
      "\u001b[1;31mNameError\u001b[0m: name 'get_prediction' is not defined"
     ]
    }
   ],
   "source": [
    "first_pred, second_pred = get_prediction('I want to visit art galleries')"
   ]
  },
  {
   "cell_type": "code",
   "execution_count": null,
   "metadata": {
    "ExecuteTime": {
     "end_time": "2021-01-21T22:33:58.152561Z",
     "start_time": "2021-01-21T22:33:58.141960Z"
    }
   },
   "outputs": [
    {
     "data": {
      "text/plain": [
       "'London, United Kingdom'"
      ]
     },
     "execution_count": 4,
     "metadata": {},
     "output_type": "execute_result"
    }
   ],
   "source": [
    "second_pred"
   ]
  },
  {
   "cell_type": "code",
   "execution_count": null,
   "metadata": {},
   "outputs": [],
   "source": []
  }
 ],
 "metadata": {
  "kernelspec": {
   "display_name": "learn-env",
   "language": "python",
   "name": "python3"
  },
  "language_info": {
   "codemirror_mode": {
    "name": "ipython",
    "version": 3
   },
   "file_extension": ".py",
   "mimetype": "text/x-python",
   "name": "python",
   "nbconvert_exporter": "python",
   "pygments_lexer": "ipython3",
   "version": "3.8.5"
  },
  "toc": {
   "base_numbering": 1,
   "nav_menu": {},
   "number_sections": true,
   "sideBar": true,
   "skip_h1_title": false,
   "title_cell": "Table of Contents",
   "title_sidebar": "Contents",
   "toc_cell": false,
   "toc_position": {},
   "toc_section_display": true,
   "toc_window_display": false
  }
 },
 "nbformat": 4,
 "nbformat_minor": 4
}
